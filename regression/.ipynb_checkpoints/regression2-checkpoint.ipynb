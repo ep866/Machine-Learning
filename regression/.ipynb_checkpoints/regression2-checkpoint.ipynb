{
 "cells": [
  {
   "cell_type": "code",
   "execution_count": 117,
   "metadata": {
    "collapsed": true
   },
   "outputs": [],
   "source": [
    "import numpy as np\n",
    "import pandas as pd\n",
    "import matplotlib.pyplot as plt\n",
    "%matplotlib inline"
   ]
  },
  {
   "cell_type": "code",
   "execution_count": 143,
   "metadata": {
    "collapsed": false
   },
   "outputs": [],
   "source": [
    "sal = pd.read_csv('salaries-merged-copy.csv')"
   ]
  },
  {
   "cell_type": "code",
   "execution_count": 144,
   "metadata": {
    "collapsed": false
   },
   "outputs": [
    {
     "data": {
      "text/html": [
       "<div>\n",
       "<table border=\"1\" class=\"dataframe\">\n",
       "  <thead>\n",
       "    <tr style=\"text-align: right;\">\n",
       "      <th></th>\n",
       "      <th>Unnamed: 0</th>\n",
       "      <th>function</th>\n",
       "      <th>sup1</th>\n",
       "      <th>sup2</th>\n",
       "      <th>sup3</th>\n",
       "      <th>sup4</th>\n",
       "      <th>sup5</th>\n",
       "      <th>salary</th>\n",
       "      <th>gender</th>\n",
       "      <th>disabled</th>\n",
       "      <th>...</th>\n",
       "      <th>sex_by_age:__female:_67_to_69_years_</th>\n",
       "      <th>sex_by_age:__female:_70_to_74_years_</th>\n",
       "      <th>sex_by_age:__female:_75_to_79_years_</th>\n",
       "      <th>sex_by_age:__female:_80_to_84_years_</th>\n",
       "      <th>sex_by_age:__female:_85_years_and_over_</th>\n",
       "      <th>commute_over_60</th>\n",
       "      <th>full_time</th>\n",
       "      <th>part_time</th>\n",
       "      <th>high_rent_burden</th>\n",
       "      <th>extreme_rent_burden</th>\n",
       "    </tr>\n",
       "  </thead>\n",
       "  <tbody>\n",
       "    <tr>\n",
       "      <th>0</th>\n",
       "      <td>2211</td>\n",
       "      <td>position22</td>\n",
       "      <td>0</td>\n",
       "      <td>0</td>\n",
       "      <td>0</td>\n",
       "      <td>4</td>\n",
       "      <td>1</td>\n",
       "      <td>49088</td>\n",
       "      <td>Man</td>\n",
       "      <td>False</td>\n",
       "      <td>...</td>\n",
       "      <td>0</td>\n",
       "      <td>0</td>\n",
       "      <td>0</td>\n",
       "      <td>0</td>\n",
       "      <td>0</td>\n",
       "      <td>0</td>\n",
       "      <td>65.276074</td>\n",
       "      <td>34.723926</td>\n",
       "      <td>37.5</td>\n",
       "      <td>37.5</td>\n",
       "    </tr>\n",
       "    <tr>\n",
       "      <th>1</th>\n",
       "      <td>2212</td>\n",
       "      <td>position15</td>\n",
       "      <td>0</td>\n",
       "      <td>0</td>\n",
       "      <td>0</td>\n",
       "      <td>0</td>\n",
       "      <td>0</td>\n",
       "      <td>48131</td>\n",
       "      <td>Man</td>\n",
       "      <td>True</td>\n",
       "      <td>...</td>\n",
       "      <td>0</td>\n",
       "      <td>0</td>\n",
       "      <td>0</td>\n",
       "      <td>0</td>\n",
       "      <td>0</td>\n",
       "      <td>0</td>\n",
       "      <td>65.276074</td>\n",
       "      <td>34.723926</td>\n",
       "      <td>37.5</td>\n",
       "      <td>37.5</td>\n",
       "    </tr>\n",
       "    <tr>\n",
       "      <th>2</th>\n",
       "      <td>2216</td>\n",
       "      <td>position20</td>\n",
       "      <td>1</td>\n",
       "      <td>0</td>\n",
       "      <td>1</td>\n",
       "      <td>6</td>\n",
       "      <td>1</td>\n",
       "      <td>51625</td>\n",
       "      <td>Man</td>\n",
       "      <td>False</td>\n",
       "      <td>...</td>\n",
       "      <td>0</td>\n",
       "      <td>0</td>\n",
       "      <td>0</td>\n",
       "      <td>0</td>\n",
       "      <td>0</td>\n",
       "      <td>0</td>\n",
       "      <td>65.276074</td>\n",
       "      <td>34.723926</td>\n",
       "      <td>37.5</td>\n",
       "      <td>37.5</td>\n",
       "    </tr>\n",
       "    <tr>\n",
       "      <th>3</th>\n",
       "      <td>2217</td>\n",
       "      <td>position6</td>\n",
       "      <td>0</td>\n",
       "      <td>0</td>\n",
       "      <td>1</td>\n",
       "      <td>30</td>\n",
       "      <td>5</td>\n",
       "      <td>54225</td>\n",
       "      <td>Woman</td>\n",
       "      <td>False</td>\n",
       "      <td>...</td>\n",
       "      <td>0</td>\n",
       "      <td>0</td>\n",
       "      <td>0</td>\n",
       "      <td>0</td>\n",
       "      <td>0</td>\n",
       "      <td>0</td>\n",
       "      <td>65.276074</td>\n",
       "      <td>34.723926</td>\n",
       "      <td>37.5</td>\n",
       "      <td>37.5</td>\n",
       "    </tr>\n",
       "    <tr>\n",
       "      <th>4</th>\n",
       "      <td>2218</td>\n",
       "      <td>position10</td>\n",
       "      <td>0</td>\n",
       "      <td>0</td>\n",
       "      <td>0</td>\n",
       "      <td>7</td>\n",
       "      <td>0</td>\n",
       "      <td>67495</td>\n",
       "      <td>Woman</td>\n",
       "      <td>False</td>\n",
       "      <td>...</td>\n",
       "      <td>0</td>\n",
       "      <td>0</td>\n",
       "      <td>0</td>\n",
       "      <td>0</td>\n",
       "      <td>0</td>\n",
       "      <td>0</td>\n",
       "      <td>65.276074</td>\n",
       "      <td>34.723926</td>\n",
       "      <td>37.5</td>\n",
       "      <td>37.5</td>\n",
       "    </tr>\n",
       "  </tbody>\n",
       "</table>\n",
       "<p>5 rows × 124 columns</p>\n",
       "</div>"
      ],
      "text/plain": [
       "   Unnamed: 0    function  sup1  sup2  sup3  sup4  sup5  salary gender  \\\n",
       "0        2211  position22     0     0     0     4     1   49088    Man   \n",
       "1        2212  position15     0     0     0     0     0   48131    Man   \n",
       "2        2216  position20     1     0     1     6     1   51625    Man   \n",
       "3        2217   position6     0     0     1    30     5   54225  Woman   \n",
       "4        2218  position10     0     0     0     7     0   67495  Woman   \n",
       "\n",
       "  disabled         ...          sex_by_age:__female:_67_to_69_years_  \\\n",
       "0    False         ...                                             0   \n",
       "1     True         ...                                             0   \n",
       "2    False         ...                                             0   \n",
       "3    False         ...                                             0   \n",
       "4    False         ...                                             0   \n",
       "\n",
       "   sex_by_age:__female:_70_to_74_years_  sex_by_age:__female:_75_to_79_years_  \\\n",
       "0                                     0                                     0   \n",
       "1                                     0                                     0   \n",
       "2                                     0                                     0   \n",
       "3                                     0                                     0   \n",
       "4                                     0                                     0   \n",
       "\n",
       "   sex_by_age:__female:_80_to_84_years_  \\\n",
       "0                                     0   \n",
       "1                                     0   \n",
       "2                                     0   \n",
       "3                                     0   \n",
       "4                                     0   \n",
       "\n",
       "  sex_by_age:__female:_85_years_and_over_ commute_over_60  full_time  \\\n",
       "0                                       0               0  65.276074   \n",
       "1                                       0               0  65.276074   \n",
       "2                                       0               0  65.276074   \n",
       "3                                       0               0  65.276074   \n",
       "4                                       0               0  65.276074   \n",
       "\n",
       "   part_time  high_rent_burden  extreme_rent_burden  \n",
       "0  34.723926              37.5                 37.5  \n",
       "1  34.723926              37.5                 37.5  \n",
       "2  34.723926              37.5                 37.5  \n",
       "3  34.723926              37.5                 37.5  \n",
       "4  34.723926              37.5                 37.5  \n",
       "\n",
       "[5 rows x 124 columns]"
      ]
     },
     "execution_count": 144,
     "metadata": {},
     "output_type": "execute_result"
    }
   ],
   "source": [
    "sal.head(5)"
   ]
  },
  {
   "cell_type": "code",
   "execution_count": 19,
   "metadata": {
    "collapsed": false
   },
   "outputs": [],
   "source": [
    "# list(sal.columns.values)"
   ]
  },
  {
   "cell_type": "code",
   "execution_count": 203,
   "metadata": {
    "collapsed": false
   },
   "outputs": [],
   "source": [
    "# sal.columns.to_series().groupby(sal.dtypes).groups"
   ]
  },
  {
   "cell_type": "code",
   "execution_count": 146,
   "metadata": {
    "collapsed": false
   },
   "outputs": [
    {
     "data": {
      "text/plain": [
       "Unnamed: 0                                    1110.500000\n",
       "sup1                                             1.431593\n",
       "sup2                                             0.763726\n",
       "sup3                                             0.624212\n",
       "sup4                                            49.639514\n",
       "sup5                                             3.945995\n",
       "salary                                       48756.163901\n",
       "disabled                                         0.013051\n",
       "yearsinposition                                  5.689307\n",
       "yearsinprofession                                9.327103\n",
       "age                                             38.260094\n",
       "cred1                                            0.069307\n",
       "cred2                                            0.031503\n",
       "inst1                                           16.674617\n",
       "inst2                                            6.648965\n",
       "inst3                                            3.680468\n",
       "inst4                                          336.729523\n",
       "inst5                                           40.371737\n",
       "instbudget                                 4826742.328460\n",
       "zip                                          56712.063006\n",
       "instsize                                     25194.286552\n",
       "median                                       41996.324201\n",
       "mean                                         60528.307396\n",
       "pop                                          19183.624810\n",
       "b19013_001                                   48670.322905\n",
       "no_male_hs_p                                     7.880182\n",
       "no_female_hs_p                                   8.354468\n",
       "at_least_hs_male_p                              92.119818\n",
       "at_least_hs_female_p                            91.645532\n",
       "at_least_bach_male_p                            47.259724\n",
       "                                                ...      \n",
       "sex_by_age:__male:_85_years_and_over_           92.784627\n",
       "sex_by_age:__female:_                        10111.229833\n",
       "sex_by_age:__female:_under_5_years_            477.404871\n",
       "sex_by_age:__female:_5_to_9_years_             428.936834\n",
       "sex_by_age:__female:_10_to_14_years_           411.923896\n",
       "sex_by_age:__female:_15_to_17_years_           294.162861\n",
       "sex_by_age:__female:_18_and_19_years_         1437.153729\n",
       "sex_by_age:__female:_20_years_                 549.543379\n",
       "sex_by_age:__female:_21_years_                 476.490107\n",
       "sex_by_age:__female:_22_to_24_years_           718.789954\n",
       "sex_by_age:__female:_25_to_29_years_           743.124810\n",
       "sex_by_age:__female:_30_to_34_years_           541.089802\n",
       "sex_by_age:__female:_35_to_39_years_           505.652207\n",
       "sex_by_age:__female:_40_to_44_years_           501.490107\n",
       "sex_by_age:__female:_45_to_49_years_           510.817352\n",
       "sex_by_age:__female:_50_to_54_years_           536.961187\n",
       "sex_by_age:__female:_55_to_59_years_           491.843988\n",
       "sex_by_age:__female:_60_and_61_years_          188.231355\n",
       "sex_by_age:__female:_62_to_64_years_           224.789193\n",
       "sex_by_age:__female:_65_and_66_years_          125.289954\n",
       "sex_by_age:__female:_67_to_69_years_           154.544901\n",
       "sex_by_age:__female:_70_to_74_years_           228.536530\n",
       "sex_by_age:__female:_75_to_79_years_           189.363014\n",
       "sex_by_age:__female:_80_to_84_years_           171.121766\n",
       "sex_by_age:__female:_85_years_and_over_        203.968037\n",
       "commute_over_60                                  4.083454\n",
       "full_time                                       46.706917\n",
       "part_time                                       53.293083\n",
       "high_rent_burden                                56.853816\n",
       "extreme_rent_burden                             37.304541\n",
       "dtype: float64"
      ]
     },
     "execution_count": 146,
     "metadata": {},
     "output_type": "execute_result"
    }
   ],
   "source": [
    "sal.mean()"
   ]
  },
  {
   "cell_type": "code",
   "execution_count": 204,
   "metadata": {
    "collapsed": false
   },
   "outputs": [],
   "source": [
    "# eliminate rows with missing Y values (NaN)\n",
    "# removing salary as we cannot impute that\n",
    "sal['missingSalary'] = pd.isnull(sal['salary'])\n",
    "sal2 = sal[(sal.missingSalary == False)]"
   ]
  },
  {
   "cell_type": "code",
   "execution_count": null,
   "metadata": {
    "collapsed": false
   },
   "outputs": [],
   "source": []
  },
  {
   "cell_type": "code",
   "execution_count": 241,
   "metadata": {
    "collapsed": false
   },
   "outputs": [],
   "source": [
    "# list of X vars to include\n",
    "X_numeric_features = [\n",
    "  'yearsinposition',\n",
    "  'yearsinprofession',\n",
    "  'age',\n",
    "  'instbudget',\n",
    "  'instsize',\n",
    "  'median',\n",
    "  'mean',\n",
    "  'pop',\n",
    "  'no_male_hs_p',\n",
    "  'no_female_hs_p',\n",
    "  'at_least_hs_male_p',\n",
    "  'at_least_hs_female_p',\n",
    "  'at_least_bach_male_p',\n",
    "  'at_least_bach_female_p',\n",
    "  'male_unemployment',\n",
    "  'female_unemployment',\n",
    "  'snap',\n",
    "  'renter',\n",
    "  'median_rent',\n",
    "  'foreign_born',\n",
    "  'value_for_owner-occupied_housing_units:__total:_',\n",
    "  'value_for_owner-occupied_housing_units:__less_than_$10,000_',\n",
    "  'value_for_owner-occupied_housing_units:__$10,000_to_$14,999_',\n",
    "  'value_for_owner-occupied_housing_units:__$15,000_to_$19,999_',\n",
    "  'value_for_owner-occupied_housing_units:__$20,000_to_$24,999_',\n",
    "  'value_for_owner-occupied_housing_units:__$25,000_to_$29,999_',\n",
    "  'value_for_owner-occupied_housing_units:__$30,000_to_$34,999_',\n",
    "  'value_for_owner-occupied_housing_units:__$35,000_to_$39,999_',\n",
    "  'value_for_owner-occupied_housing_units:__$40,000_to_$49,999_',\n",
    "  'value_for_owner-occupied_housing_units:__$50,000_to_$59,999_',\n",
    "  'value_for_owner-occupied_housing_units:__$60,000_to_$69,999_',\n",
    "  'value_for_owner-occupied_housing_units:__$70,000_to_$79,999_',\n",
    "  'value_for_owner-occupied_housing_units:__$80,000_to_$89,999_',\n",
    "  'value_for_owner-occupied_housing_units:__$90,000_to_$99,999_',\n",
    "  'value_for_owner-occupied_housing_units:__$100,000_to_$124,999_',\n",
    "  'value_for_owner-occupied_housing_units:__$125,000_to_$149,999_',\n",
    "  'value_for_owner-occupied_housing_units:__$150,000_to_$174,999_',\n",
    "  'value_for_owner-occupied_housing_units:__$175,000_to_$199,999_',\n",
    "  'value_for_owner-occupied_housing_units:__$200,000_to_$249,999_',\n",
    "  'value_for_owner-occupied_housing_units:__$250,000_to_$299,999_',\n",
    "  'value_for_owner-occupied_housing_units:__$300,000_to_$399,999_',\n",
    "  'value_for_owner-occupied_housing_units:__$400,000_to_$499,999_',\n",
    "  'value_for_owner-occupied_housing_units:__$500,000_to_$749,999_',\n",
    "  'value_for_owner-occupied_housing_units:__$750,000_to_$999,999_',\n",
    "  'value_for_owner-occupied_housing_units:__$1,000,000_or_more_',\n",
    "#   'sex_by_age:__male:_',\n",
    "#   'sex_by_age:__male:_under_5_years_',\n",
    "#   'sex_by_age:__male:_5_to_9_years_',\n",
    "#   'sex_by_age:__male:_10_to_14_years_',\n",
    "#   'sex_by_age:__male:_15_to_17_years_',\n",
    "#   'sex_by_age:__male:_18_and_19_years_',\n",
    "#   'sex_by_age:__male:_20_years_',\n",
    "#   'sex_by_age:__male:_21_years_',\n",
    "#   'sex_by_age:__male:_22_to_24_years_',\n",
    "#   'sex_by_age:__male:_25_to_29_years_',\n",
    "#   'sex_by_age:__male:_30_to_34_years_',\n",
    "#   'sex_by_age:__male:_35_to_39_years_',\n",
    "#   'sex_by_age:__male:_40_to_44_years_',\n",
    "#   'sex_by_age:__male:_45_to_49_years_',\n",
    "#   'sex_by_age:__male:_50_to_54_years_',\n",
    "#   'sex_by_age:__male:_55_to_59_years_',\n",
    "#   'sex_by_age:__male:_60_and_61_years_',\n",
    "#   'sex_by_age:__male:_62_to_64_years_',\n",
    "#   'sex_by_age:__male:_65_and_66_years_',\n",
    "#   'sex_by_age:__male:_67_to_69_years_',\n",
    "#   'sex_by_age:__male:_70_to_74_years_',\n",
    "#   'sex_by_age:__male:_75_to_79_years_',\n",
    "#   'sex_by_age:__male:_80_to_84_years_',\n",
    "#   'sex_by_age:__male:_85_years_and_over_',\n",
    "#   'sex_by_age:__female:_',\n",
    "#   'sex_by_age:__female:_under_5_years_',\n",
    "#   'sex_by_age:__female:_5_to_9_years_',\n",
    "#   'sex_by_age:__female:_10_to_14_years_',\n",
    "#   'sex_by_age:__female:_15_to_17_years_',\n",
    "#   'sex_by_age:__female:_18_and_19_years_',\n",
    "#   'sex_by_age:__female:_20_years_',\n",
    "#   'sex_by_age:__female:_21_years_',\n",
    "#   'sex_by_age:__female:_22_to_24_years_',\n",
    "#   'sex_by_age:__female:_25_to_29_years_',\n",
    "#   'sex_by_age:__female:_30_to_34_years_',\n",
    "#   'sex_by_age:__female:_35_to_39_years_',\n",
    "#   'sex_by_age:__female:_40_to_44_years_',\n",
    "#   'sex_by_age:__female:_45_to_49_years_',\n",
    "#   'sex_by_age:__female:_50_to_54_years_',\n",
    "#   'sex_by_age:__female:_55_to_59_years_',\n",
    "#   'sex_by_age:__female:_60_and_61_years_',\n",
    "#   'sex_by_age:__female:_62_to_64_years_',\n",
    "#   'sex_by_age:__female:_65_and_66_years_',\n",
    "#   'sex_by_age:__female:_67_to_69_years_',\n",
    "#   'sex_by_age:__female:_70_to_74_years_',\n",
    "#   'sex_by_age:__female:_75_to_79_years_',\n",
    "#   'sex_by_age:__female:_80_to_84_years_',\n",
    "#   'sex_by_age:__female:_85_years_and_over_',\n",
    "  'commute_over_60',\n",
    "  'full_time',\n",
    "  'part_time',\n",
    "  'high_rent_burden',\n",
    "  'extreme_rent_burden']\n",
    "\n",
    "X_numeric = sal2[X_numeric_features]\n",
    "X_categorical_features = ['function', 'gender', 'race', 'highestdegree', 'category', 'insttype', 'city', 'state']\n",
    "X_categorical = sal2[X_categorical_features]"
   ]
  },
  {
   "cell_type": "code",
   "execution_count": 242,
   "metadata": {
    "collapsed": false
   },
   "outputs": [],
   "source": [
    "# create dummy variables for each of the categorical features\n",
    "# DOC: http://pandas.pydata.org/pandas-docs/stable/generated/pandas.get_dummies.html\n",
    "\n",
    "Function_dummies = pd.get_dummies(X_categorical['function'])\n",
    "# print(Function_dummies)\n",
    "gender_dummies = pd.get_dummies(X_categorical['gender'])\n",
    "race_dummies = pd.get_dummies(X_categorical['race'])\n",
    "highestDegree_dummies = pd.get_dummies(X_categorical['highestdegree'])\n",
    "Category_dummies = pd.get_dummies(X_categorical['category'])\n",
    "instType_dummies = pd.get_dummies(X_categorical['insttype'])\n",
    "\n",
    "city_dummies = pd.get_dummies(X_categorical['city'])\n",
    "state_dummies = pd.get_dummies(X_categorical['state'])\n",
    "\n",
    "\n",
    "\n",
    "X_dummy_features = pd.concat([city_dummies, state_dummies ,Function_dummies, gender_dummies, race_dummies, highestDegree_dummies, Category_dummies, instType_dummies], axis=1)\n",
    "\n",
    "# convert to ndarray\n",
    "X_dummy_features = X_dummy_features.as_matrix()"
   ]
  },
  {
   "cell_type": "code",
   "execution_count": 243,
   "metadata": {
    "collapsed": false
   },
   "outputs": [],
   "source": [
    "# impute missing values in numerical features\n",
    "# DOC: http://scikit-learn.org/stable/modules/preprocessing.html\n",
    "\n",
    "\n",
    "# default is imputing it with the mean\n",
    "from sklearn.preprocessing import Imputer\n",
    "imp = Imputer(strategy='mean')\n",
    "imp.fit(X_numeric)\n",
    "X_numeric_imputed = imp.transform(X_numeric)"
   ]
  },
  {
   "cell_type": "code",
   "execution_count": 244,
   "metadata": {
    "collapsed": false
   },
   "outputs": [],
   "source": [
    "X = np.concatenate((X_dummy_features, X_numeric_imputed), axis=1)"
   ]
  },
  {
   "cell_type": "code",
   "execution_count": 245,
   "metadata": {
    "collapsed": false
   },
   "outputs": [
    {
     "data": {
      "text/plain": [
       "array([ 49088.,  48131.,  51625.,  54225.,  67495.,  32000.,  47673.,\n",
       "        32000.,  51625.,  48131.])"
      ]
     },
     "execution_count": 245,
     "metadata": {},
     "output_type": "execute_result"
    }
   ],
   "source": [
    "# y is salary\n",
    "y = sal2.iloc[:, 7].values\n",
    "y[0:10]"
   ]
  },
  {
   "cell_type": "code",
   "execution_count": 247,
   "metadata": {
    "collapsed": false
   },
   "outputs": [
    {
     "data": {
      "text/plain": [
       "0"
      ]
     },
     "execution_count": 247,
     "metadata": {},
     "output_type": "execute_result"
    }
   ],
   "source": [
    "# check imputed values\n",
    "np.isnan(X_numeric_imputed).sum()"
   ]
  },
  {
   "cell_type": "code",
   "execution_count": 248,
   "metadata": {
    "collapsed": true
   },
   "outputs": [],
   "source": [
    "# create training and test sets\n",
    "from sklearn.cross_validation import train_test_split\n",
    "\n",
    "X_train, X_test, y_train, y_test = train_test_split(\n",
    "         X, y, test_size=0.3, random_state=0)"
   ]
  },
  {
   "cell_type": "code",
   "execution_count": 249,
   "metadata": {
    "collapsed": true
   },
   "outputs": [],
   "source": [
    "# keep track of variance on test data, to graph\n",
    "var_to_graph = {}\n",
    "# bring residual sum of squares from regression1.ipynb\n",
    "var_to_graph['simpReg'] = 265376883.08"
   ]
  },
  {
   "cell_type": "code",
   "execution_count": 250,
   "metadata": {
    "collapsed": true
   },
   "outputs": [],
   "source": [
    "from sklearn import datasets, linear_model\n",
    "# DOC: http://scikit-learn.org/stable/modules/generated/sklearn.linear_model.LinearRegression.html"
   ]
  },
  {
   "cell_type": "code",
   "execution_count": 259,
   "metadata": {
    "collapsed": false
   },
   "outputs": [
    {
     "name": "stdout",
     "output_type": "stream",
     "text": [
      "Intercept: \n",
      " 38803.5577849\n",
      "Coefficients: \n",
      " [ -1.37368135e+04  -1.70411616e+04  -5.56537439e+03   1.08589939e+03\n",
      "  -7.39267153e+03  -1.64291267e+03   1.40363046e+04  -1.61562464e+04\n",
      "  -8.49043275e+02  -1.00274306e+04  -5.15410860e+03   5.98363966e+03\n",
      "  -1.24398435e+04   9.62990279e+03  -4.18009280e+03   2.38514016e+04\n",
      "  -9.81346361e+03   3.17968734e+03  -7.28356801e+03  -9.47867159e+03\n",
      "  -1.36986441e+04   5.92176256e+03  -5.86972089e+03   3.52874894e+03\n",
      "   6.32929188e+03   1.24216013e+04  -1.99048918e+03   9.30976774e+02\n",
      "  -1.68483898e+02   5.87967620e+03   1.34495450e+04   1.56224055e+03\n",
      "   4.33239778e+02  -5.50885639e+02  -6.05675601e+03   7.38346361e+03\n",
      "   3.19106874e+03  -3.17356841e-10  -9.94653483e+02  -1.35598000e+03\n",
      "   8.12569691e+03   4.34585810e+03   7.42207439e+03   1.40765410e+04\n",
      "  -5.96680886e+03   6.11328396e+03  -7.89212563e+03   5.65957829e+03\n",
      "   1.42165306e+04  -1.20779480e+03  -1.12643796e+04   7.80525933e+02\n",
      "  -9.14034267e+03  -2.17433487e+04  -8.33468716e+03  -9.07334682e+03\n",
      "  -6.43619684e+03   2.77012092e+03  -2.52829156e-10  -2.41754055e+03\n",
      "  -1.06966016e+04  -7.72530663e+03  -4.49024592e+03   1.71284993e+04\n",
      "   1.48446961e+03   9.99275006e+03   1.37005885e+04  -8.36253287e+03\n",
      "   3.11387963e+03   6.75577560e+03   8.91894294e+03   6.90625722e+02\n",
      "  -5.17020739e+03   5.55128313e+03  -7.23967931e+03  -2.54920674e+03\n",
      "   4.87488134e+03  -7.56604194e+03   2.43224912e+03   3.10366406e+03\n",
      "  -2.01818763e+03   8.34623097e+03  -1.35249865e+04  -4.68087841e+03\n",
      "  -1.77664139e+04  -5.27895455e+03   4.44117588e-10  -3.43639779e+03\n",
      "  -8.32486819e+02   5.42141173e+03  -7.18956453e+03   5.56361177e+03\n",
      "  -1.28011604e+03  -7.35037797e+03  -8.27476003e+02   1.47619260e+04\n",
      "  -1.08591403e+03   3.83712261e+03  -1.33402204e+04   8.68222424e+03\n",
      "   5.67701866e-11  -3.89044265e+02   7.31850060e+03   9.53309637e+03\n",
      "   1.72281405e+04   4.59180225e+03   4.13101681e+03  -1.99472988e+04\n",
      "   6.54773573e+03   2.26727742e+04  -9.69317091e+03   6.86297323e+03\n",
      "   1.03849766e+04   2.65057287e+04   1.42488324e+04  -2.67941118e+03\n",
      "   1.40860482e+04   3.17289825e+03  -1.02586144e+04   4.29678225e+03\n",
      "  -4.42458990e+03  -1.21293158e+04  -1.02501089e+04  -2.77248213e-12\n",
      "  -2.46329278e+03   8.31559879e+03  -2.99047217e+03  -1.34861577e+04\n",
      "  -2.31452432e+03   3.91834585e+03   9.93881545e-11  -1.94874920e+04\n",
      "  -1.31712113e+03  -3.82590463e+03   3.11684751e-11  -1.10521774e+02\n",
      "  -5.34747202e+03  -4.06679535e+03   6.50741947e+02   1.12121401e+04\n",
      "  -4.34296233e+03   9.44353912e+03  -6.04397298e+03  -1.68405297e+04\n",
      "  -1.57595921e+03   3.31090006e+03   2.88648635e+03   1.47547066e+04\n",
      "   3.64393886e+03   3.33072336e+03  -7.25522140e+03  -1.47441075e+04\n",
      "   5.55333358e+02  -3.31044627e+03   2.35005905e+04  -1.20354090e+04\n",
      "   3.83402218e+03  -8.37043047e+03  -1.61966270e+04   1.50285398e+04\n",
      "   1.28204000e+04   1.19718891e+04  -1.18936890e+04  -3.49801612e+03\n",
      "  -1.68602210e+04  -8.95258061e+03   1.24856977e-12   1.07543535e+04\n",
      "  -2.60876327e+03   1.58761231e+02  -2.93482339e+03   6.71049793e+03\n",
      "   9.04776846e+02   1.08207282e+03   3.25582164e+02  -5.16779431e+03\n",
      "  -2.26818716e+03  -1.42274179e+03  -8.24893646e+02   5.07911436e+03\n",
      "  -1.18495189e+04  -4.76558555e+03   9.88334503e+03   8.51241943e+03\n",
      "  -6.60535230e+03  -1.54553853e+04  -2.60269512e+03  -2.24768419e+02\n",
      "   9.70860624e+03  -3.73459353e+03   9.67035145e+03   7.74062107e+03\n",
      "  -4.26716527e+03   3.09014017e+03  -1.99337929e+03   1.30681876e+04\n",
      "  -7.90998547e+03   8.50581128e+03   1.64498586e+04   1.37005885e+04\n",
      "  -5.18622462e+03   7.88966743e+02   2.73061561e+03  -7.53024016e+03\n",
      "   3.16809320e+03   9.70860624e+03  -1.13381719e+03  -6.24270363e+03\n",
      "  -4.68087841e+03  -2.12095373e+03   8.89512684e+03   3.16141300e+03\n",
      "  -2.07412240e+03  -3.62637121e+02  -4.37593775e+03  -1.00494175e+03\n",
      "  -9.75936211e+03   1.78358971e+04   6.94068704e+03  -2.29117834e+03\n",
      "  -4.27998162e+03  -4.32675768e+03  -3.49361312e+03   3.97113698e+02\n",
      "   4.87488134e+03   6.42214641e+01  -7.72530663e+03  -8.23331754e+03\n",
      "   1.08589939e+03  -3.89044265e+02  -1.33381602e+03   1.45847695e+02\n",
      "   7.49920615e+02  -3.49559982e+02  -7.35037797e+03   1.19679842e+03\n",
      "  -7.69837610e+03  -5.31456472e+03   4.56472740e+03   4.44146898e+03\n",
      "   4.91962078e+03   7.88721878e+03   5.38918935e+03  -2.29097162e+04\n",
      "  -2.69324739e+04  -2.81091555e+04  -1.73938299e+04  -1.95733325e+04\n",
      "  -2.59620386e+04  -2.90132756e+04  -2.62724647e+04  -2.97901716e+04\n",
      "  -2.04784283e+04  -4.21843005e+03  -2.92439635e+04  -3.16969794e+04\n",
      "  -2.49310640e+04  -2.95952613e+04  -2.72967290e+04  -2.96212894e+04\n",
      "  -2.79603377e+04  -2.69466898e+04  -2.39333860e+04  -1.30823373e+04\n",
      "  -2.59305177e+04  -2.40680724e+04  -2.60839434e+04  -2.69385507e+04\n",
      "  -2.74483295e+04  -2.72012962e+04  -4.31679924e+03  -6.50107570e+03\n",
      "  -2.74624261e+03  -1.27959167e+03  -4.02169276e+03  -3.25187158e+02\n",
      "  -4.49241786e+03   5.83851260e+03  -7.46528878e+02   6.36034075e+03\n",
      "   9.93027914e+03   2.24947186e+04   1.45200706e+04   2.56936674e+03\n",
      "   1.49665569e+04  -1.49665569e+04  -1.09212549e+03  -3.23075393e+03\n",
      "  -5.84211188e+01   5.60005868e+02   2.37403738e+02   6.63222305e-04\n",
      "   4.82705302e-02   2.77311122e-01  -1.08086583e-01   7.72154834e-01\n",
      "  -5.31692085e+01   7.19671892e+00   5.31695990e+01  -7.19722171e+00\n",
      "   3.13547275e+01  -3.45182279e+01  -1.98672828e+02   4.73146825e+02\n",
      "  -3.14199089e+02  -1.89666696e+02  -1.49194627e+01   1.81100814e+02\n",
      "  -4.87696431e+00   5.90188245e+00  -1.07590211e+02  -5.08880692e+00\n",
      "  -7.72690203e+01   1.40937029e+02   8.67149796e+01  -6.51301670e+00\n",
      "  -3.13471368e+01  -4.15376805e+01   8.53931200e-01   4.26041972e+01\n",
      "   6.01150001e+00  -4.12173291e+01   6.54125053e+00   2.35708787e+01\n",
      "   5.96066864e+00  -2.63829258e+01  -2.19374570e+01   3.99183242e+01\n",
      "   7.97484313e+00  -2.24145397e+01   1.71914770e+01  -3.24172183e+00\n",
      "  -4.51807511e+00   1.28808904e+03  -1.37391914e+02   1.37391912e+02\n",
      "  -5.85469979e+01   1.07076128e+02]\n",
      "Residual sum of squares, training data: 80951208.97\n",
      "Residual sum of squares, test data: 129034716.23\n",
      "Variance score, training data: 0.77\n",
      "Distribution of prediction error on training data:\n"
     ]
    },
    {
     "data": {
      "image/png": "[encoded data removed]",
      "text/plain": [
       "<matplotlib.figure.Figure at 0x1117688d0>"
      ]
     },
     "metadata": {},
     "output_type": "display_data"
    },
    {
     "name": "stdout",
     "output_type": "stream",
     "text": [
      "Distribution of prediction error on test data:\n"
     ]
    },
    {
     "data": {
      "image/png": "[encoded data removed]",
      "text/plain": [
       "<matplotlib.figure.Figure at 0x10f4ac400>"
      ]
     },
     "metadata": {},
     "output_type": "display_data"
    }
   ],
   "source": [
    "# Create linear regression object\n",
    "regr = linear_model.LinearRegression()\n",
    "\n",
    "# Train the model using the training sets\n",
    "X_train_no_intercept = X_train\n",
    "X_train = X_train.reshape(-1, X_train.shape[1])\n",
    "regr.fit(X_train, y_train)\n",
    "\n",
    "# The intercept\n",
    "print('Intercept: \\n', regr.intercept_)\n",
    "# The coefficients\n",
    "print('Coefficients: \\n', regr.coef_)\n",
    "# The mean square error\n",
    "print(\"Residual sum of squares, training data: %.2f\"\n",
    "      % np.mean((regr.predict(X_train) - y_train) ** 2))\n",
    "print(\"Residual sum of squares, test data: %.2f\"\n",
    "      % np.mean((regr.predict(X_test) - y_test) ** 2))\n",
    "var_to_graph['multReg_linear'] = np.mean((regr.predict(X_test) - y_test) ** 2)\n",
    "# Explained variance score: 1 is perfect prediction\n",
    "print('Variance score, training data: %.2f' % regr.score(X_train, y_train))\n",
    "#vector of prediction error\n",
    "print('Distribution of prediction error on training data:')\n",
    "predError = regr.predict(X_train) - y_train\n",
    "plt.hist(predError)\n",
    "plt.show()\n",
    "\n",
    "print('Distribution of prediction error on test data:')\n",
    "predError = regr.predict(X_test) - y_test\n",
    "plt.hist(predError)\n",
    "plt.show()"
   ]
  },
  {
   "cell_type": "code",
   "execution_count": 252,
   "metadata": {
    "collapsed": true
   },
   "outputs": [],
   "source": [
    "from sklearn.preprocessing import PolynomialFeatures\n",
    "# DOC: http://scikit-learn.org/stable/modules/preprocessing.html\n",
    "\n",
    "# make it polynomial - include all possible interactions\n",
    "poly = PolynomialFeatures(2)\n",
    "X_poly = poly.fit_transform(X)"
   ]
  },
  {
   "cell_type": "code",
   "execution_count": 253,
   "metadata": {
    "collapsed": true
   },
   "outputs": [],
   "source": [
    "# create training and test sets\n",
    "from sklearn.cross_validation import train_test_split\n",
    "\n",
    "X_train, X_test, y_train, y_test = train_test_split(\n",
    "         X_poly, y, test_size=0.3, random_state=0)"
   ]
  },
  {
   "cell_type": "code",
   "execution_count": 254,
   "metadata": {
    "collapsed": false
   },
   "outputs": [
    {
     "name": "stdout",
     "output_type": "stream",
     "text": [
      "Intercept: \n",
      " 139654.738196\n",
      "Coefficients: \n",
      " [  8.64815991e+01  -3.62591464e+03   5.19897456e+02 ...,   3.31975499e-01\n",
      "   2.32927615e-01   1.87099065e-01]\n",
      "Residual sum of squares, training data: 0.00\n",
      "Residual sum of squares, test data: 136925021256.10\n",
      "Variance score, training data: 1.00\n",
      "Distribution of prediction error on training data:\n"
     ]
    },
    {
     "data": {
      "image/png": "[encoded data removed]",
      "text/plain": [
       "<matplotlib.figure.Figure at 0x112542a20>"
      ]
     },
     "metadata": {},
     "output_type": "display_data"
    },
    {
     "name": "stdout",
     "output_type": "stream",
     "text": [
      "Distribution of prediction error on test data:\n"
     ]
    },
    {
     "data": {
      "image/png": "[encoded data removed]",
      "text/plain": [
       "<matplotlib.figure.Figure at 0x113187908>"
      ]
     },
     "metadata": {},
     "output_type": "display_data"
    }
   ],
   "source": [
    "## POLYNOMINAL \n",
    "# Create linear regression object\n",
    "poly = linear_model.LinearRegression(normalize=True)\n",
    "\n",
    "# Train the model using the training sets\n",
    "X_train_no_intercept = X_train\n",
    "X_train = X_train.reshape(-1, X_train.shape[1])\n",
    "poly.fit(X_train, y_train)\n",
    "\n",
    "# The intercept\n",
    "print('Intercept: \\n', poly.intercept_)\n",
    "# The coefficients\n",
    "print('Coefficients: \\n', poly.coef_)\n",
    "# The mean square error\n",
    "print(\"Residual sum of squares, training data: %.2f\"\n",
    "      % np.mean((poly.predict(X_train) - y_train) ** 2))\n",
    "print(\"Residual sum of squares, test data: %.2f\"\n",
    "      % np.mean((poly.predict(X_test) - y_test) ** 2))\n",
    "var_to_graph['multReg_poly'] = np.mean((poly.predict(X_test) - y_test) ** 2)\n",
    "# Explained variance score: 1 is perfect prediction\n",
    "print('Variance score, training data: %.2f' % poly.score(X_train, y_train))\n",
    "#vector of prediction error\n",
    "print('Distribution of prediction error on training data:')\n",
    "predError = poly.predict(X_train) - y_train\n",
    "plt.hist(predError)\n",
    "plt.show()\n",
    "\n",
    "print('Distribution of prediction error on test data:')\n",
    "predError = poly.predict(X_test) - y_test\n",
    "plt.hist(predError)\n",
    "plt.show()"
   ]
  },
  {
   "cell_type": "code",
   "execution_count": 255,
   "metadata": {
    "collapsed": false
   },
   "outputs": [
    {
     "name": "stdout",
     "output_type": "stream",
     "text": [
      "Intercept: \n",
      " 12096.2676104\n",
      "Coefficients: \n",
      " [ -4.28840858e+03  -5.26456188e+03  -4.72599246e+03   9.34738107e+01\n",
      "  -1.45744460e+03  -3.33719241e+03   4.61544472e+03  -1.04936144e+04\n",
      "  -9.33756432e+02  -4.92353960e+03  -7.13086033e+02   4.95204838e+03\n",
      "  -4.88673388e+03   3.64184940e+03  -2.35629322e+03   1.08426135e+04\n",
      "  -5.17937099e+03   6.88620213e+03  -3.36642167e+03  -5.32186334e+03\n",
      "  -4.34780610e+03   4.43636661e+03  -1.05736806e+03   2.43437096e+03\n",
      "  -1.82316731e+03   9.73553089e+03  -4.49047397e+02   5.74507635e+02\n",
      "   5.33863200e+02   1.97694491e+03   7.83017707e+03   1.82402952e+03\n",
      "  -1.87308690e+03  -3.79195072e+03  -6.68150731e+03   5.23583378e+03\n",
      "   4.87614802e+03   0.00000000e+00   1.02301959e+03   2.70143560e+03\n",
      "  -6.60958996e+02   1.45587038e+03   3.83465241e+03   1.69952039e+03\n",
      "  -4.90618052e+03   6.44635093e+03  -5.92717726e+03   4.07088315e+03\n",
      "   3.11584561e+03  -1.62417574e+03  -6.55524677e+02   5.05252786e+03\n",
      "   5.79863129e+03  -8.20280454e+03   6.10338273e+01  -7.38733342e+03\n",
      "   6.79820203e+02   1.04447242e+02   0.00000000e+00  -5.29267321e+03\n",
      "  -7.20732695e+03  -3.37248894e+03  -1.25173142e+03   5.20305957e+03\n",
      "  -1.37696710e+03   3.41594792e+03   7.91033364e+03  -1.76195504e+03\n",
      "   2.47102159e+03   2.68408148e+03   7.75632377e+03  -8.52368365e+02\n",
      "  -2.94892085e+02   1.54489398e+03   1.02609160e+03  -5.11659122e+02\n",
      "   1.65355622e+03  -4.83430100e+03   1.56494199e+03  -1.74668691e+03\n",
      "  -4.15786697e+03   7.07001473e+03  -2.84181037e+03   3.21998856e+01\n",
      "  -1.21210356e+04  -5.72336797e+03   0.00000000e+00  -4.26462788e+02\n",
      "   8.04817641e+02   3.40040115e+02  -5.26789197e+03   4.26044601e+03\n",
      "  -3.72657121e+03  -7.97256360e+02   1.42176530e+03   4.42869281e+03\n",
      "  -2.27947084e+03   1.49121790e+03  -1.17733124e+03   3.15965341e+03\n",
      "   0.00000000e+00  -8.77203702e+02  -5.10516564e+02   6.64487282e+03\n",
      "   8.24813288e+03  -6.57513229e+02   9.66707527e+02  -2.59285772e+03\n",
      "   1.89406336e+03   5.79982085e+03  -4.66589557e+03   5.91839799e+03\n",
      "   7.08784209e+03   5.75278779e+03   3.09543540e+03  -5.48862222e+03\n",
      "   1.03964743e+04  -9.53480026e+02  -3.40613617e+02   2.44215739e+03\n",
      "  -3.95692159e+03  -7.68484471e+03  -6.46539042e+03   0.00000000e+00\n",
      "  -3.26450611e+03   8.61591747e+03  -2.17974010e+03  -5.99934482e+03\n",
      "  -1.35994417e+03   3.29139062e+03   0.00000000e+00  -5.77161306e+03\n",
      "   1.15324825e+03  -3.41464631e+03   0.00000000e+00  -4.30648219e+03\n",
      "  -1.54652946e+03   5.92753005e+02  -4.41871878e+03   6.09774147e+03\n",
      "  -2.63261766e+03   3.77969380e+03  -3.06926686e+03  -5.15343580e+03\n",
      "  -4.03104399e+03   3.75467176e+03   3.20072920e+03   5.05221817e+03\n",
      "   2.52646080e+03  -6.96569752e+02  -4.77379249e+03   2.84152122e+03\n",
      "   1.50826449e+02  -5.65298767e+03   5.11021701e+03  -1.65064644e+03\n",
      "  -3.96262386e+01  -6.05599451e+03  -3.46648561e+03   4.10328397e+03\n",
      "   4.75872453e+02   7.83378217e+03  -8.91225530e+03   2.03198077e+03\n",
      "  -4.56646160e+03   2.41653263e+03   0.00000000e+00   6.86463541e+03\n",
      "  -2.42717127e+03  -1.04506646e+03  -3.46264960e+03   9.72846758e+02\n",
      "   3.82136197e+03   5.32418146e+02  -9.81348307e+02  -7.64281756e+03\n",
      "  -4.55265494e+03  -5.21871452e+03   2.86785856e+03   4.34877204e+03\n",
      "  -4.73640735e+03  -3.79724579e+03   5.38559496e+03   2.50354466e+03\n",
      "   2.07432517e+03  -6.42906691e+03  -4.09733685e+03   5.07086822e+03\n",
      "   1.80967676e+03  -7.78928937e+03  -3.12153799e+03   5.72266315e+03\n",
      "  -3.69559747e+03   5.22076586e+03   1.94081657e+03   8.64661306e+03\n",
      "  -4.10465084e+03   6.46578439e+03   3.61998559e+03   7.91033364e+03\n",
      "  -1.84426144e+03  -2.22209904e+03  -1.25963654e+03  -3.91676042e+03\n",
      "   2.57357295e+03   1.80967676e+03  -1.88159112e+03  -2.84992850e+03\n",
      "   3.21998856e+01  -2.33252099e+03   3.92625871e+03   2.49021645e+03\n",
      "  -9.11526996e+02  -4.69346903e+02  -2.05430763e+03  -4.95724810e+02\n",
      "   1.53420382e+02   7.90258257e+03   3.06129713e+03   1.45455526e+03\n",
      "  -3.31031119e+03   3.58615584e+02  -3.38241396e+03   1.05707497e+03\n",
      "   1.65355622e+03   1.55946053e+03  -3.37248894e+03  -5.47616281e+03\n",
      "   9.34738107e+01  -8.77203702e+02  -3.54999277e+02   1.25882386e+03\n",
      "  -1.06816759e+03   1.27116229e+03  -7.97256360e+02  -2.83720204e+03\n",
      "  -3.35653013e+03  -6.35786462e+03   2.44534108e+03   7.61067739e+02\n",
      "   4.06923288e+03   5.58638231e+03   2.41538514e+04  -2.05431896e+03\n",
      "  -5.80026518e+03  -6.27415264e+03   3.04799086e+03   1.94847901e+03\n",
      "  -5.22059042e+03  -7.53928184e+03  -5.11129530e+03  -6.07980653e+03\n",
      "   7.63170943e+01   1.49601089e+04  -8.34853236e+03  -1.00362850e+04\n",
      "  -4.12456555e+03  -5.51320148e+03  -5.38477510e+03  -8.77448313e+03\n",
      "  -6.34150111e+03  -5.84183414e+03  -1.63773227e+03   6.84605329e+03\n",
      "  -5.10470247e+03  -3.17576960e+03  -5.09487133e+03  -6.12207827e+03\n",
      "  -5.51844914e+03  -6.23392175e+03  -1.53429473e+03  -3.65130451e+03\n",
      "  -2.34949240e+03  -1.12187255e+03  -2.85114370e+03   3.36753309e+02\n",
      "  -3.65385700e+03   5.25181892e+03  -6.34313634e+02   2.54926463e+03\n",
      "   5.74323353e+03   1.77625027e+04   1.03879022e+04  -1.46563937e+03\n",
      "   5.55787122e+03  -5.55787122e+03   7.55101991e+02   3.91296546e+03\n",
      "  -1.23256744e+02   6.45333141e+02   2.42085157e+02   6.12442713e-04\n",
      "   1.94101587e-01   2.32290481e-01  -6.45558763e-02   3.65585309e-01\n",
      "  -1.47826254e+01   5.32507400e+01   1.47827449e+01  -5.32509900e+01\n",
      "   2.34495464e+01  -9.26116694e+00   1.62092619e+02  -2.85945748e+02\n",
      "  -5.07570162e+01  -4.51087148e+01  -1.76900092e+00   1.39626480e+02\n",
      "  -1.51004815e+00   2.86281033e+00  -3.82360355e+01  -2.36746940e+01\n",
      "  -4.67618157e+01   8.31235091e+01   5.16034472e+01   2.87307954e+01\n",
      "  -4.24202059e+01  -1.98809679e+01  -1.31583865e+01   2.16211010e+01\n",
      "   7.00755396e+00  -3.53546241e+00  -4.01083538e+00   1.19416591e+01\n",
      "  -5.15837773e+00  -6.03335862e+00  -6.79151128e+00   5.66013806e+00\n",
      "   8.90222556e+00  -1.47387204e+01   7.03142809e+00  -2.92503792e+00\n",
      "  -2.66937267e+00   2.36819481e+02  -4.74804445e+01   4.74804308e+01\n",
      "  -3.56348136e+01   4.90831391e+01]\n",
      "Residual sum of squares, training data: 83822441.98\n",
      "Residual sum of squares, test data: 117332510.83\n",
      "Variance score, training data: 0.76\n",
      "Distribution of prediction error on training data:\n"
     ]
    },
    {
     "data": {
      "image/png": "[encoded data removed]",
      "text/plain": [
       "<matplotlib.figure.Figure at 0x12933ba20>"
      ]
     },
     "metadata": {},
     "output_type": "display_data"
    },
    {
     "name": "stdout",
     "output_type": "stream",
     "text": [
      "Distribution of prediction error on test data:\n"
     ]
    },
    {
     "data": {
      "image/png": "[encoded data removed]",
      "text/plain": [
       "<matplotlib.figure.Figure at 0x112eeb940>"
      ]
     },
     "metadata": {},
     "output_type": "display_data"
    }
   ],
   "source": [
    "# reguralization - adds a contant to the features. if anything is extreme there is less chance of it afecting the output\n",
    "\n",
    "\n",
    "## RIDGE REGRESSION\n",
    "# DOC: http://scikit-learn.org/stable/modules/generated/sklearn.linear_model.Ridge.html\n",
    "\n",
    "# create training and test sets\n",
    "from sklearn.cross_validation import train_test_split\n",
    "\n",
    "X_train, X_test, y_train, y_test = train_test_split(\n",
    "         X, y, test_size=0.3, random_state=0)\n",
    "\n",
    "# Create linear regression object\n",
    "regr = linear_model.Ridge()\n",
    "\n",
    "# Train the model using the training sets\n",
    "X_train_no_intercept = X_train\n",
    "X_train = X_train.reshape(-1, X_train.shape[1])\n",
    "regr.fit(X_train, y_train)\n",
    "\n",
    "# The intercept\n",
    "print('Intercept: \\n', regr.intercept_)\n",
    "# The coefficients\n",
    "print('Coefficients: \\n', regr.coef_)\n",
    "# The mean square error\n",
    "print(\"Residual sum of squares, training data: %.2f\"\n",
    "      % np.mean((regr.predict(X_train) - y_train) ** 2))\n",
    "print(\"Residual sum of squares, test data: %.2f\"\n",
    "      % np.mean((regr.predict(X_test) - y_test) ** 2))\n",
    "var_to_graph['multReg_ridge'] = np.mean((regr.predict(X_test) - y_test) ** 2)\n",
    "# Explained variance score: 1 is perfect prediction\n",
    "print('Variance score, training data: %.2f' % regr.score(X_train, y_train))\n",
    "#vector of prediction error\n",
    "print('Distribution of prediction error on training data:')\n",
    "predError = regr.predict(X_train) - y_train\n",
    "plt.hist(predError)\n",
    "plt.show()\n",
    "\n",
    "print('Distribution of prediction error on test data:')\n",
    "predError = regr.predict(X_test) - y_test\n",
    "plt.hist(predError)\n",
    "plt.show()"
   ]
  },
  {
   "cell_type": "code",
   "execution_count": 256,
   "metadata": {
    "collapsed": false
   },
   "outputs": [
    {
     "data": {
      "image/png": "[encoded data removed]",
      "text/plain": [
       "<matplotlib.figure.Figure at 0x112563470>"
      ]
     },
     "metadata": {},
     "output_type": "display_data"
    }
   ],
   "source": [
    "# bar graph of dict with Residual Sum of Squares on test datasets\n",
    "\n",
    "var_to_graph['multReg_poly'] = 0\n",
    "plt.bar(range(len(var_to_graph)), var_to_graph.values(), align='center')\n",
    "plt.xticks(range(len(var_to_graph)), var_to_graph.keys())\n",
    "\n",
    "plt.show()"
   ]
  }
 ],
 "metadata": {
  "kernelspec": {
   "display_name": "Python 3",
   "language": "python",
   "name": "python3"
  },
  "language_info": {
   "codemirror_mode": {
    "name": "ipython",
    "version": 3
   },
   "file_extension": ".py",
   "mimetype": "text/x-python",
   "name": "python",
   "nbconvert_exporter": "python",
   "pygments_lexer": "ipython3",
   "version": "3.5.1"
  }
 },
 "nbformat": 4,
 "nbformat_minor": 0
}
